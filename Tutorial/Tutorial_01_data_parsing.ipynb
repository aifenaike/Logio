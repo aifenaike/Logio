{
 "cells": [
  {
   "cell_type": "markdown",
   "metadata": {},
   "source": [
    "# Tutorial Notebook For core Module"
   ]
  },
  {
   "cell_type": "markdown",
   "metadata": {},
   "source": [
    "### Import Libraries"
   ]
  },
  {
   "cell_type": "code",
   "execution_count": 1,
   "metadata": {},
   "outputs": [],
   "source": [
    "#import package and essentials\n",
    "import sys\n",
    "sys.path.append('..')\n",
    "from speui.core import Analysis\n",
    "from speui.core import FileConverter"
   ]
  },
  {
   "cell_type": "markdown",
   "metadata": {},
   "source": [
    "\n",
    "- By instantiating the Analysis class, a variety of functionalities are made available.\n",
    "    - Read in variou sfile formats (csv, xlsx, json, LAS)\n",
    "    - describe: statistical description of dataet.\n",
    "    - correlate: correlation matrix"
   ]
  },
  {
   "cell_type": "markdown",
   "metadata": {},
   "source": [
    "### Read in csv file"
   ]
  },
  {
   "cell_type": "code",
   "execution_count": 2,
   "metadata": {},
   "outputs": [],
   "source": [
    "instance = Analysis()\n",
    "data =instance.read_file(filename=\"data/wellx2.csv\")"
   ]
  },
  {
   "cell_type": "code",
   "execution_count": 3,
   "metadata": {},
   "outputs": [
    {
     "data": {
      "text/html": [
       "<div>\n",
       "<style scoped>\n",
       "    .dataframe tbody tr th:only-of-type {\n",
       "        vertical-align: middle;\n",
       "    }\n",
       "\n",
       "    .dataframe tbody tr th {\n",
       "        vertical-align: top;\n",
       "    }\n",
       "\n",
       "    .dataframe thead th {\n",
       "        text-align: right;\n",
       "    }\n",
       "</style>\n",
       "<table border=\"1\" class=\"dataframe\">\n",
       "  <thead>\n",
       "    <tr style=\"text-align: right;\">\n",
       "      <th></th>\n",
       "      <th>DEPTH</th>\n",
       "      <th>NPHI</th>\n",
       "      <th>RHOB</th>\n",
       "      <th>GR</th>\n",
       "      <th>RT</th>\n",
       "      <th>PEF</th>\n",
       "      <th>CALI</th>\n",
       "    </tr>\n",
       "  </thead>\n",
       "  <tbody>\n",
       "    <tr>\n",
       "      <th>mean</th>\n",
       "      <td>3.970000e+03</td>\n",
       "      <td>0.183691</td>\n",
       "      <td>2.396538</td>\n",
       "      <td>33.993876</td>\n",
       "      <td>2264.864986</td>\n",
       "      <td>5.554070</td>\n",
       "      <td>8.653349</td>\n",
       "    </tr>\n",
       "    <tr>\n",
       "      <th>median</th>\n",
       "      <td>3.970000e+03</td>\n",
       "      <td>0.177000</td>\n",
       "      <td>2.373000</td>\n",
       "      <td>28.751000</td>\n",
       "      <td>7.861000</td>\n",
       "      <td>5.129000</td>\n",
       "      <td>8.625000</td>\n",
       "    </tr>\n",
       "    <tr>\n",
       "      <th>std</th>\n",
       "      <td>4.446030e+02</td>\n",
       "      <td>0.058966</td>\n",
       "      <td>0.181394</td>\n",
       "      <td>19.766924</td>\n",
       "      <td>11473.638768</td>\n",
       "      <td>1.395577</td>\n",
       "      <td>0.072710</td>\n",
       "    </tr>\n",
       "    <tr>\n",
       "      <th>min</th>\n",
       "      <td>3.200000e+03</td>\n",
       "      <td>0.024000</td>\n",
       "      <td>1.627000</td>\n",
       "      <td>2.687000</td>\n",
       "      <td>0.140000</td>\n",
       "      <td>3.647000</td>\n",
       "      <td>8.318000</td>\n",
       "    </tr>\n",
       "    <tr>\n",
       "      <th>max</th>\n",
       "      <td>4.740000e+03</td>\n",
       "      <td>0.541000</td>\n",
       "      <td>3.090000</td>\n",
       "      <td>123.362000</td>\n",
       "      <td>62290.770000</td>\n",
       "      <td>11.229000</td>\n",
       "      <td>9.175000</td>\n",
       "    </tr>\n",
       "    <tr>\n",
       "      <th>skewness</th>\n",
       "      <td>1.804091e-16</td>\n",
       "      <td>0.700345</td>\n",
       "      <td>0.392580</td>\n",
       "      <td>1.232527</td>\n",
       "      <td>4.996475</td>\n",
       "      <td>1.251106</td>\n",
       "      <td>1.770571</td>\n",
       "    </tr>\n",
       "    <tr>\n",
       "      <th>kurtosis</th>\n",
       "      <td>-1.200000e+00</td>\n",
       "      <td>1.942632</td>\n",
       "      <td>-0.664103</td>\n",
       "      <td>1.347067</td>\n",
       "      <td>23.082478</td>\n",
       "      <td>1.503404</td>\n",
       "      <td>7.228197</td>\n",
       "    </tr>\n",
       "    <tr>\n",
       "      <th>Jarque_bera</th>\n",
       "      <td>9.240600e+02</td>\n",
       "      <td>3677.889823</td>\n",
       "      <td>678.684295</td>\n",
       "      <td>5061.585869</td>\n",
       "      <td>405737.119767</td>\n",
       "      <td>5465.706233</td>\n",
       "      <td>41547.110989</td>\n",
       "    </tr>\n",
       "  </tbody>\n",
       "</table>\n",
       "</div>"
      ],
      "text/plain": [
       "                    DEPTH         NPHI        RHOB           GR  \\\n",
       "mean         3.970000e+03     0.183691    2.396538    33.993876   \n",
       "median       3.970000e+03     0.177000    2.373000    28.751000   \n",
       "std          4.446030e+02     0.058966    0.181394    19.766924   \n",
       "min          3.200000e+03     0.024000    1.627000     2.687000   \n",
       "max          4.740000e+03     0.541000    3.090000   123.362000   \n",
       "skewness     1.804091e-16     0.700345    0.392580     1.232527   \n",
       "kurtosis    -1.200000e+00     1.942632   -0.664103     1.347067   \n",
       "Jarque_bera  9.240600e+02  3677.889823  678.684295  5061.585869   \n",
       "\n",
       "                        RT          PEF          CALI  \n",
       "mean           2264.864986     5.554070      8.653349  \n",
       "median            7.861000     5.129000      8.625000  \n",
       "std           11473.638768     1.395577      0.072710  \n",
       "min               0.140000     3.647000      8.318000  \n",
       "max           62290.770000    11.229000      9.175000  \n",
       "skewness          4.996475     1.251106      1.770571  \n",
       "kurtosis         23.082478     1.503404      7.228197  \n",
       "Jarque_bera  405737.119767  5465.706233  41547.110989  "
      ]
     },
     "execution_count": 3,
     "metadata": {},
     "output_type": "execute_result"
    }
   ],
   "source": [
    "instance.describe(data)"
   ]
  },
  {
   "cell_type": "code",
   "execution_count": 4,
   "metadata": {},
   "outputs": [
    {
     "data": {
      "text/html": [
       "<div>\n",
       "<style scoped>\n",
       "    .dataframe tbody tr th:only-of-type {\n",
       "        vertical-align: middle;\n",
       "    }\n",
       "\n",
       "    .dataframe tbody tr th {\n",
       "        vertical-align: top;\n",
       "    }\n",
       "\n",
       "    .dataframe thead th {\n",
       "        text-align: right;\n",
       "    }\n",
       "</style>\n",
       "<table border=\"1\" class=\"dataframe\">\n",
       "  <thead>\n",
       "    <tr style=\"text-align: right;\">\n",
       "      <th></th>\n",
       "      <th>DEPTH</th>\n",
       "      <th>NPHI</th>\n",
       "      <th>RHOB</th>\n",
       "      <th>GR</th>\n",
       "      <th>RT</th>\n",
       "      <th>PEF</th>\n",
       "      <th>CALI</th>\n",
       "    </tr>\n",
       "  </thead>\n",
       "  <tbody>\n",
       "    <tr>\n",
       "      <th>DEPTH</th>\n",
       "      <td>1.000000</td>\n",
       "      <td>-0.005017</td>\n",
       "      <td>-0.173907</td>\n",
       "      <td>-0.162593</td>\n",
       "      <td>-0.002146</td>\n",
       "      <td>-0.379912</td>\n",
       "      <td>0.448671</td>\n",
       "    </tr>\n",
       "    <tr>\n",
       "      <th>NPHI</th>\n",
       "      <td>-0.005017</td>\n",
       "      <td>1.000000</td>\n",
       "      <td>0.176227</td>\n",
       "      <td>0.564121</td>\n",
       "      <td>-0.017344</td>\n",
       "      <td>0.351378</td>\n",
       "      <td>0.368074</td>\n",
       "    </tr>\n",
       "    <tr>\n",
       "      <th>RHOB</th>\n",
       "      <td>-0.173907</td>\n",
       "      <td>0.176227</td>\n",
       "      <td>1.000000</td>\n",
       "      <td>0.485578</td>\n",
       "      <td>-0.048871</td>\n",
       "      <td>0.892967</td>\n",
       "      <td>0.290470</td>\n",
       "    </tr>\n",
       "    <tr>\n",
       "      <th>GR</th>\n",
       "      <td>-0.162593</td>\n",
       "      <td>0.564121</td>\n",
       "      <td>0.485578</td>\n",
       "      <td>1.000000</td>\n",
       "      <td>0.015636</td>\n",
       "      <td>0.400181</td>\n",
       "      <td>0.110493</td>\n",
       "    </tr>\n",
       "    <tr>\n",
       "      <th>RT</th>\n",
       "      <td>-0.002146</td>\n",
       "      <td>-0.017344</td>\n",
       "      <td>-0.048871</td>\n",
       "      <td>0.015636</td>\n",
       "      <td>1.000000</td>\n",
       "      <td>-0.051178</td>\n",
       "      <td>-0.024941</td>\n",
       "    </tr>\n",
       "    <tr>\n",
       "      <th>PEF</th>\n",
       "      <td>-0.379912</td>\n",
       "      <td>0.351378</td>\n",
       "      <td>0.892967</td>\n",
       "      <td>0.400181</td>\n",
       "      <td>-0.051178</td>\n",
       "      <td>1.000000</td>\n",
       "      <td>0.327477</td>\n",
       "    </tr>\n",
       "    <tr>\n",
       "      <th>CALI</th>\n",
       "      <td>0.448671</td>\n",
       "      <td>0.368074</td>\n",
       "      <td>0.290470</td>\n",
       "      <td>0.110493</td>\n",
       "      <td>-0.024941</td>\n",
       "      <td>0.327477</td>\n",
       "      <td>1.000000</td>\n",
       "    </tr>\n",
       "  </tbody>\n",
       "</table>\n",
       "</div>"
      ],
      "text/plain": [
       "          DEPTH      NPHI      RHOB        GR        RT       PEF      CALI\n",
       "DEPTH  1.000000 -0.005017 -0.173907 -0.162593 -0.002146 -0.379912  0.448671\n",
       "NPHI  -0.005017  1.000000  0.176227  0.564121 -0.017344  0.351378  0.368074\n",
       "RHOB  -0.173907  0.176227  1.000000  0.485578 -0.048871  0.892967  0.290470\n",
       "GR    -0.162593  0.564121  0.485578  1.000000  0.015636  0.400181  0.110493\n",
       "RT    -0.002146 -0.017344 -0.048871  0.015636  1.000000 -0.051178 -0.024941\n",
       "PEF   -0.379912  0.351378  0.892967  0.400181 -0.051178  1.000000  0.327477\n",
       "CALI   0.448671  0.368074  0.290470  0.110493 -0.024941  0.327477  1.000000"
      ]
     },
     "execution_count": 4,
     "metadata": {},
     "output_type": "execute_result"
    }
   ],
   "source": [
    "instance.correlate(data)"
   ]
  },
  {
   "cell_type": "markdown",
   "metadata": {},
   "source": [
    "### File converter:\n",
    "- Convert any of the of the following files format into anyother:\n",
    "    - Flat files such as CSV;\n",
    "    - Excel workbooks (xlsx);\n",
    "    - Las files\n",
    "    - JSON for data science apllications.\n",
    "- The convert file is stored in the same directory where the source data to be converted is located."
   ]
  },
  {
   "cell_type": "markdown",
   "metadata": {},
   "source": [
    "#### Convert json file to xlsx"
   ]
  },
  {
   "cell_type": "code",
   "execution_count": 5,
   "metadata": {},
   "outputs": [
    {
     "name": "stdout",
     "output_type": "stream",
     "text": [
      "The allowed file extensions are {'xlsx', 'las', 'csv', 'json'}\n",
      "\n",
      "The data to be read has to be in the current working directory\n",
      "\n",
      "Done. The output data data/15_9-f-1a.xlsx has been saved in the current working directory\n",
      "\n",
      " 14.973129034042358 seconds\n"
     ]
    }
   ],
   "source": [
    "converter = FileConverter(filename = \"data/15_9-F-1A.json\",output_format='xlsx')\n",
    "converter.convert_file()\n",
    "# converter.filename"
   ]
  },
  {
   "cell_type": "markdown",
   "metadata": {},
   "source": [
    "#### Convert csv file to json"
   ]
  },
  {
   "cell_type": "code",
   "execution_count": 6,
   "metadata": {},
   "outputs": [
    {
     "name": "stdout",
     "output_type": "stream",
     "text": [
      "The allowed file extensions are {'xlsx', 'las', 'csv', 'json'}\n",
      "\n",
      "The data to be read has to be in the current working directory\n",
      "\n",
      "Done. The output data data/wellx1.json has been saved in the current working directory\n",
      "\n",
      " 0.027844905853271484 seconds\n"
     ]
    }
   ],
   "source": [
    "converter = FileConverter(filename = \"data/wellx1.csv\",output_format='json')\n",
    "converter.convert_file()\n",
    "# converter.filename"
   ]
  },
  {
   "cell_type": "markdown",
   "metadata": {},
   "source": [
    "#### Convert las file to xlsx"
   ]
  },
  {
   "cell_type": "code",
   "execution_count": 7,
   "metadata": {},
   "outputs": [
    {
     "name": "stdout",
     "output_type": "stream",
     "text": [
      "The allowed file extensions are {'xlsx', 'las', 'csv', 'json'}\n",
      "\n",
      "The data to be read has to be in the current working directory\n",
      "\n",
      "Done. The output data data/15_9-f-11a.xlsx has been saved in the current working directory\n",
      "\n",
      " 17.439720630645752 seconds\n"
     ]
    }
   ],
   "source": [
    "converter = FileConverter(filename = \"data/15_9-F-11A.LAS\",output_format='xlsx')\n",
    "converter.convert_file()\n",
    "# converter.filename"
   ]
  },
  {
   "cell_type": "markdown",
   "metadata": {},
   "source": [
    "#### Convert json file to las"
   ]
  },
  {
   "cell_type": "code",
   "execution_count": 8,
   "metadata": {},
   "outputs": [
    {
     "name": "stdout",
     "output_type": "stream",
     "text": [
      "The allowed file extensions are {'xlsx', 'las', 'csv', 'json'}\n",
      "\n",
      "The data to be read has to be in the current working directory\n",
      "\n",
      "Done. The output data data/15_9-f-1a.las has been saved in the current working directory\n",
      "\n",
      " 2.628666400909424 seconds\n"
     ]
    }
   ],
   "source": [
    "converter = FileConverter(filename = \"data/15_9-F-1A.json\",output_format='las')\n",
    "converter.convert_file()\n",
    "# converter.filename"
   ]
  }
 ],
 "metadata": {
  "kernelspec": {
   "display_name": "Python 3.9.7 ('venv': venv)",
   "language": "python",
   "name": "python3"
  },
  "language_info": {
   "codemirror_mode": {
    "name": "ipython",
    "version": 3
   },
   "file_extension": ".py",
   "mimetype": "text/x-python",
   "name": "python",
   "nbconvert_exporter": "python",
   "pygments_lexer": "ipython3",
   "version": "3.9.7"
  },
  "orig_nbformat": 4,
  "vscode": {
   "interpreter": {
    "hash": "a4512e8a37a0be82df902283280a8d96987bba23927592091138c7c27f0eb8ae"
   }
  }
 },
 "nbformat": 4,
 "nbformat_minor": 2
}
