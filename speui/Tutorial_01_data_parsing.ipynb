{
 "cells": [
  {
   "cell_type": "markdown",
   "metadata": {},
   "source": [
    "# Tutorial Notebook For core Module"
   ]
  },
  {
   "cell_type": "markdown",
   "metadata": {},
   "source": [
    "### Import Libraries"
   ]
  },
  {
   "cell_type": "code",
   "execution_count": 3,
   "metadata": {},
   "outputs": [],
   "source": [
    "#import package and essentials\n",
    "from core.analysis_convert import Analysis\n",
    "from core.analysis_convert import FileConverter"
   ]
  },
  {
   "cell_type": "markdown",
   "metadata": {},
   "source": [
    "\n",
    "- By instantiating the Analysis class, a variety of functionalities are made available.\n",
    "    - Read in variou sfile formats (csv, xlsx, json, LAS)\n",
    "    - describe: statistical description of dataet.\n",
    "    - correlate: correlation matrix"
   ]
  },
  {
   "cell_type": "markdown",
   "metadata": {},
   "source": [
    "### Read in csv file"
   ]
  },
  {
   "cell_type": "code",
   "execution_count": 8,
   "metadata": {},
   "outputs": [],
   "source": [
    "instance = Analysis()\n",
    "data =instance.read_file(filename=\"data/wellx2.csv\")"
   ]
  },
  {
   "cell_type": "code",
   "execution_count": 9,
   "metadata": {},
   "outputs": [
    {
     "data": {
      "text/html": [
       "<div>\n",
       "<style scoped>\n",
       "    .dataframe tbody tr th:only-of-type {\n",
       "        vertical-align: middle;\n",
       "    }\n",
       "\n",
       "    .dataframe tbody tr th {\n",
       "        vertical-align: top;\n",
       "    }\n",
       "\n",
       "    .dataframe thead th {\n",
       "        text-align: right;\n",
       "    }\n",
       "</style>\n",
       "<table border=\"1\" class=\"dataframe\">\n",
       "  <thead>\n",
       "    <tr style=\"text-align: right;\">\n",
       "      <th></th>\n",
       "      <th>DEPTH</th>\n",
       "      <th>NPHI</th>\n",
       "      <th>RHOB</th>\n",
       "      <th>GR</th>\n",
       "      <th>RT</th>\n",
       "      <th>PEF</th>\n",
       "      <th>CALI</th>\n",
       "    </tr>\n",
       "  </thead>\n",
       "  <tbody>\n",
       "    <tr>\n",
       "      <th>mean</th>\n",
       "      <td>3.970000e+03</td>\n",
       "      <td>0.183691</td>\n",
       "      <td>2.396538</td>\n",
       "      <td>33.993876</td>\n",
       "      <td>2264.864986</td>\n",
       "      <td>5.554070</td>\n",
       "      <td>8.653349</td>\n",
       "    </tr>\n",
       "    <tr>\n",
       "      <th>median</th>\n",
       "      <td>3.970000e+03</td>\n",
       "      <td>0.177000</td>\n",
       "      <td>2.373000</td>\n",
       "      <td>28.751000</td>\n",
       "      <td>7.861000</td>\n",
       "      <td>5.129000</td>\n",
       "      <td>8.625000</td>\n",
       "    </tr>\n",
       "    <tr>\n",
       "      <th>std</th>\n",
       "      <td>4.446030e+02</td>\n",
       "      <td>0.058966</td>\n",
       "      <td>0.181394</td>\n",
       "      <td>19.766924</td>\n",
       "      <td>11473.638768</td>\n",
       "      <td>1.395577</td>\n",
       "      <td>0.072710</td>\n",
       "    </tr>\n",
       "    <tr>\n",
       "      <th>min</th>\n",
       "      <td>3.200000e+03</td>\n",
       "      <td>0.024000</td>\n",
       "      <td>1.627000</td>\n",
       "      <td>2.687000</td>\n",
       "      <td>0.140000</td>\n",
       "      <td>3.647000</td>\n",
       "      <td>8.318000</td>\n",
       "    </tr>\n",
       "    <tr>\n",
       "      <th>max</th>\n",
       "      <td>4.740000e+03</td>\n",
       "      <td>0.541000</td>\n",
       "      <td>3.090000</td>\n",
       "      <td>123.362000</td>\n",
       "      <td>62290.770000</td>\n",
       "      <td>11.229000</td>\n",
       "      <td>9.175000</td>\n",
       "    </tr>\n",
       "    <tr>\n",
       "      <th>skewness</th>\n",
       "      <td>1.804091e-16</td>\n",
       "      <td>0.700345</td>\n",
       "      <td>0.392580</td>\n",
       "      <td>1.232527</td>\n",
       "      <td>4.996475</td>\n",
       "      <td>1.251106</td>\n",
       "      <td>1.770571</td>\n",
       "    </tr>\n",
       "    <tr>\n",
       "      <th>kurtosis</th>\n",
       "      <td>-1.200000e+00</td>\n",
       "      <td>1.942632</td>\n",
       "      <td>-0.664103</td>\n",
       "      <td>1.347067</td>\n",
       "      <td>23.082478</td>\n",
       "      <td>1.503404</td>\n",
       "      <td>7.228197</td>\n",
       "    </tr>\n",
       "    <tr>\n",
       "      <th>Jarque_bera</th>\n",
       "      <td>9.240600e+02</td>\n",
       "      <td>3677.889823</td>\n",
       "      <td>678.684295</td>\n",
       "      <td>5061.585869</td>\n",
       "      <td>405737.119767</td>\n",
       "      <td>5465.706233</td>\n",
       "      <td>41547.110989</td>\n",
       "    </tr>\n",
       "  </tbody>\n",
       "</table>\n",
       "</div>"
      ],
      "text/plain": [
       "                    DEPTH         NPHI        RHOB           GR  \\\n",
       "mean         3.970000e+03     0.183691    2.396538    33.993876   \n",
       "median       3.970000e+03     0.177000    2.373000    28.751000   \n",
       "std          4.446030e+02     0.058966    0.181394    19.766924   \n",
       "min          3.200000e+03     0.024000    1.627000     2.687000   \n",
       "max          4.740000e+03     0.541000    3.090000   123.362000   \n",
       "skewness     1.804091e-16     0.700345    0.392580     1.232527   \n",
       "kurtosis    -1.200000e+00     1.942632   -0.664103     1.347067   \n",
       "Jarque_bera  9.240600e+02  3677.889823  678.684295  5061.585869   \n",
       "\n",
       "                        RT          PEF          CALI  \n",
       "mean           2264.864986     5.554070      8.653349  \n",
       "median            7.861000     5.129000      8.625000  \n",
       "std           11473.638768     1.395577      0.072710  \n",
       "min               0.140000     3.647000      8.318000  \n",
       "max           62290.770000    11.229000      9.175000  \n",
       "skewness          4.996475     1.251106      1.770571  \n",
       "kurtosis         23.082478     1.503404      7.228197  \n",
       "Jarque_bera  405737.119767  5465.706233  41547.110989  "
      ]
     },
     "execution_count": 9,
     "metadata": {},
     "output_type": "execute_result"
    }
   ],
   "source": [
    "instance.describe(data)"
   ]
  },
  {
   "cell_type": "code",
   "execution_count": 10,
   "metadata": {},
   "outputs": [
    {
     "data": {
      "text/html": [
       "<div>\n",
       "<style scoped>\n",
       "    .dataframe tbody tr th:only-of-type {\n",
       "        vertical-align: middle;\n",
       "    }\n",
       "\n",
       "    .dataframe tbody tr th {\n",
       "        vertical-align: top;\n",
       "    }\n",
       "\n",
       "    .dataframe thead th {\n",
       "        text-align: right;\n",
       "    }\n",
       "</style>\n",
       "<table border=\"1\" class=\"dataframe\">\n",
       "  <thead>\n",
       "    <tr style=\"text-align: right;\">\n",
       "      <th></th>\n",
       "      <th>DEPTH</th>\n",
       "      <th>NPHI</th>\n",
       "      <th>RHOB</th>\n",
       "      <th>GR</th>\n",
       "      <th>RT</th>\n",
       "      <th>PEF</th>\n",
       "      <th>CALI</th>\n",
       "    </tr>\n",
       "  </thead>\n",
       "  <tbody>\n",
       "    <tr>\n",
       "      <th>DEPTH</th>\n",
       "      <td>1.000000</td>\n",
       "      <td>-0.005017</td>\n",
       "      <td>-0.173907</td>\n",
       "      <td>-0.162593</td>\n",
       "      <td>-0.002146</td>\n",
       "      <td>-0.379912</td>\n",
       "      <td>0.448671</td>\n",
       "    </tr>\n",
       "    <tr>\n",
       "      <th>NPHI</th>\n",
       "      <td>-0.005017</td>\n",
       "      <td>1.000000</td>\n",
       "      <td>0.176227</td>\n",
       "      <td>0.564121</td>\n",
       "      <td>-0.017344</td>\n",
       "      <td>0.351378</td>\n",
       "      <td>0.368074</td>\n",
       "    </tr>\n",
       "    <tr>\n",
       "      <th>RHOB</th>\n",
       "      <td>-0.173907</td>\n",
       "      <td>0.176227</td>\n",
       "      <td>1.000000</td>\n",
       "      <td>0.485578</td>\n",
       "      <td>-0.048871</td>\n",
       "      <td>0.892967</td>\n",
       "      <td>0.290470</td>\n",
       "    </tr>\n",
       "    <tr>\n",
       "      <th>GR</th>\n",
       "      <td>-0.162593</td>\n",
       "      <td>0.564121</td>\n",
       "      <td>0.485578</td>\n",
       "      <td>1.000000</td>\n",
       "      <td>0.015636</td>\n",
       "      <td>0.400181</td>\n",
       "      <td>0.110493</td>\n",
       "    </tr>\n",
       "    <tr>\n",
       "      <th>RT</th>\n",
       "      <td>-0.002146</td>\n",
       "      <td>-0.017344</td>\n",
       "      <td>-0.048871</td>\n",
       "      <td>0.015636</td>\n",
       "      <td>1.000000</td>\n",
       "      <td>-0.051178</td>\n",
       "      <td>-0.024941</td>\n",
       "    </tr>\n",
       "    <tr>\n",
       "      <th>PEF</th>\n",
       "      <td>-0.379912</td>\n",
       "      <td>0.351378</td>\n",
       "      <td>0.892967</td>\n",
       "      <td>0.400181</td>\n",
       "      <td>-0.051178</td>\n",
       "      <td>1.000000</td>\n",
       "      <td>0.327477</td>\n",
       "    </tr>\n",
       "    <tr>\n",
       "      <th>CALI</th>\n",
       "      <td>0.448671</td>\n",
       "      <td>0.368074</td>\n",
       "      <td>0.290470</td>\n",
       "      <td>0.110493</td>\n",
       "      <td>-0.024941</td>\n",
       "      <td>0.327477</td>\n",
       "      <td>1.000000</td>\n",
       "    </tr>\n",
       "  </tbody>\n",
       "</table>\n",
       "</div>"
      ],
      "text/plain": [
       "          DEPTH      NPHI      RHOB        GR        RT       PEF      CALI\n",
       "DEPTH  1.000000 -0.005017 -0.173907 -0.162593 -0.002146 -0.379912  0.448671\n",
       "NPHI  -0.005017  1.000000  0.176227  0.564121 -0.017344  0.351378  0.368074\n",
       "RHOB  -0.173907  0.176227  1.000000  0.485578 -0.048871  0.892967  0.290470\n",
       "GR    -0.162593  0.564121  0.485578  1.000000  0.015636  0.400181  0.110493\n",
       "RT    -0.002146 -0.017344 -0.048871  0.015636  1.000000 -0.051178 -0.024941\n",
       "PEF   -0.379912  0.351378  0.892967  0.400181 -0.051178  1.000000  0.327477\n",
       "CALI   0.448671  0.368074  0.290470  0.110493 -0.024941  0.327477  1.000000"
      ]
     },
     "execution_count": 10,
     "metadata": {},
     "output_type": "execute_result"
    }
   ],
   "source": [
    "instance.correlate(df=data)"
   ]
  },
  {
   "cell_type": "markdown",
   "metadata": {},
   "source": [
    "### File converter:\n",
    "- Convert any of the of the following files format into anyother:\n",
    "    - Flat files such as CSV;\n",
    "    - Excel workbooks (xlsx);\n",
    "    - Las files\n",
    "    - JSON for data science apllications."
   ]
  },
  {
   "cell_type": "code",
   "execution_count": 7,
   "metadata": {},
   "outputs": [
    {
     "name": "stdout",
     "output_type": "stream",
     "text": [
      "The allowed file extensions are {'json', 'las', 'csv', 'xlsx'}\n",
      "\n",
      "The data to be read has to be in the current working directory\n"
     ]
    },
    {
     "ename": "FileNotFoundError",
     "evalue": "[Errno 2] No such file or directory: 'data/15_9-f-1a.csv'",
     "output_type": "error",
     "traceback": [
      "\u001b[1;31m---------------------------------------------------------------------------\u001b[0m",
      "\u001b[1;31mFileNotFoundError\u001b[0m                         Traceback (most recent call last)",
      "\u001b[1;32mc:\\Users\\ALEXANDER\\Desktop\\speui\\speui\\Tutorial_01_data_parsing.ipynb Cell 9'\u001b[0m in \u001b[0;36m<cell line: 2>\u001b[1;34m()\u001b[0m\n\u001b[0;32m      <a href='vscode-notebook-cell:/c%3A/Users/ALEXANDER/Desktop/speui/speui/Tutorial_01_data_parsing.ipynb#ch0000012?line=0'>1</a>\u001b[0m converter \u001b[39m=\u001b[39m FileConverter(filename \u001b[39m=\u001b[39m \u001b[39m\"\u001b[39m\u001b[39mdata/15_9-F-1A.json\u001b[39m\u001b[39m\"\u001b[39m,output_format\u001b[39m=\u001b[39m\u001b[39m'\u001b[39m\u001b[39mxlsx\u001b[39m\u001b[39m'\u001b[39m)\n\u001b[1;32m----> <a href='vscode-notebook-cell:/c%3A/Users/ALEXANDER/Desktop/speui/speui/Tutorial_01_data_parsing.ipynb#ch0000012?line=1'>2</a>\u001b[0m converter\u001b[39m.\u001b[39;49mconvert_file()\n",
      "File \u001b[1;32mc:\\Users\\ALEXANDER\\Desktop\\speui\\speui\\core\\analysis_convert.py:414\u001b[0m, in \u001b[0;36mFileConverter.convert_file\u001b[1;34m(self)\u001b[0m\n\u001b[0;32m    412\u001b[0m     new_fn \u001b[39m=\u001b[39m json_to_csv(\u001b[39mself\u001b[39m)\n\u001b[0;32m    413\u001b[0m     \u001b[39mself\u001b[39m\u001b[39m.\u001b[39mfilename \u001b[39m=\u001b[39m new_fn\n\u001b[1;32m--> 414\u001b[0m     fn \u001b[39m=\u001b[39m csv_to_xlsx(\u001b[39mself\u001b[39;49m)\n\u001b[0;32m    415\u001b[0m     \u001b[39mprint\u001b[39m(\u001b[39m'\u001b[39m\u001b[39m\\n\u001b[39;00m\u001b[39mDone. The output data has been saved in the current working directory\u001b[39m\u001b[39m'\u001b[39m)\n\u001b[0;32m    416\u001b[0m \u001b[39melif\u001b[39;00m output_format \u001b[39m==\u001b[39m \u001b[39m'\u001b[39m\u001b[39mlas\u001b[39m\u001b[39m'\u001b[39m:\n",
      "File \u001b[1;32mc:\\Users\\ALEXANDER\\Desktop\\speui\\speui\\core\\analysis_convert.py:299\u001b[0m, in \u001b[0;36mFileConverter.convert_file.<locals>.csv_to_xlsx\u001b[1;34m(self)\u001b[0m\n\u001b[0;32m    296\u001b[0m \u001b[39mdef\u001b[39;00m \u001b[39mcsv_to_xlsx\u001b[39m(\u001b[39mself\u001b[39m):\n\u001b[0;32m    297\u001b[0m     \u001b[39m\"\"\"converts from csv to xlsx\"\"\"\u001b[39;00m\n\u001b[1;32m--> 299\u001b[0m     df \u001b[39m=\u001b[39m pd\u001b[39m.\u001b[39;49mread_csv(\u001b[39mself\u001b[39;49m\u001b[39m.\u001b[39;49mfilename)\n\u001b[0;32m    300\u001b[0m     filename \u001b[39m=\u001b[39m \u001b[39mstr\u001b[39m\u001b[39m.\u001b[39mlower(\u001b[39mself\u001b[39m\u001b[39m.\u001b[39mfilename)\n\u001b[0;32m    301\u001b[0m     fn \u001b[39m=\u001b[39m \u001b[39mf\u001b[39m\u001b[39m\"\u001b[39m\u001b[39m{\u001b[39;00mfilename\u001b[39m.\u001b[39mrsplit(\u001b[39m'\u001b[39m\u001b[39m.\u001b[39m\u001b[39m'\u001b[39m)[\u001b[39m0\u001b[39m]\u001b[39m}\u001b[39;00m\u001b[39m.xlsx\u001b[39m\u001b[39m\"\u001b[39m\n",
      "File \u001b[1;32mc:\\Users\\ALEXANDER\\Desktop\\speui\\venv\\lib\\site-packages\\pandas\\util\\_decorators.py:311\u001b[0m, in \u001b[0;36mdeprecate_nonkeyword_arguments.<locals>.decorate.<locals>.wrapper\u001b[1;34m(*args, **kwargs)\u001b[0m\n\u001b[0;32m    305\u001b[0m \u001b[39mif\u001b[39;00m \u001b[39mlen\u001b[39m(args) \u001b[39m>\u001b[39m num_allow_args:\n\u001b[0;32m    306\u001b[0m     warnings\u001b[39m.\u001b[39mwarn(\n\u001b[0;32m    307\u001b[0m         msg\u001b[39m.\u001b[39mformat(arguments\u001b[39m=\u001b[39marguments),\n\u001b[0;32m    308\u001b[0m         \u001b[39mFutureWarning\u001b[39;00m,\n\u001b[0;32m    309\u001b[0m         stacklevel\u001b[39m=\u001b[39mstacklevel,\n\u001b[0;32m    310\u001b[0m     )\n\u001b[1;32m--> 311\u001b[0m \u001b[39mreturn\u001b[39;00m func(\u001b[39m*\u001b[39margs, \u001b[39m*\u001b[39m\u001b[39m*\u001b[39mkwargs)\n",
      "File \u001b[1;32mc:\\Users\\ALEXANDER\\Desktop\\speui\\venv\\lib\\site-packages\\pandas\\io\\parsers\\readers.py:680\u001b[0m, in \u001b[0;36mread_csv\u001b[1;34m(filepath_or_buffer, sep, delimiter, header, names, index_col, usecols, squeeze, prefix, mangle_dupe_cols, dtype, engine, converters, true_values, false_values, skipinitialspace, skiprows, skipfooter, nrows, na_values, keep_default_na, na_filter, verbose, skip_blank_lines, parse_dates, infer_datetime_format, keep_date_col, date_parser, dayfirst, cache_dates, iterator, chunksize, compression, thousands, decimal, lineterminator, quotechar, quoting, doublequote, escapechar, comment, encoding, encoding_errors, dialect, error_bad_lines, warn_bad_lines, on_bad_lines, delim_whitespace, low_memory, memory_map, float_precision, storage_options)\u001b[0m\n\u001b[0;32m    665\u001b[0m kwds_defaults \u001b[39m=\u001b[39m _refine_defaults_read(\n\u001b[0;32m    666\u001b[0m     dialect,\n\u001b[0;32m    667\u001b[0m     delimiter,\n\u001b[1;32m   (...)\u001b[0m\n\u001b[0;32m    676\u001b[0m     defaults\u001b[39m=\u001b[39m{\u001b[39m\"\u001b[39m\u001b[39mdelimiter\u001b[39m\u001b[39m\"\u001b[39m: \u001b[39m\"\u001b[39m\u001b[39m,\u001b[39m\u001b[39m\"\u001b[39m},\n\u001b[0;32m    677\u001b[0m )\n\u001b[0;32m    678\u001b[0m kwds\u001b[39m.\u001b[39mupdate(kwds_defaults)\n\u001b[1;32m--> 680\u001b[0m \u001b[39mreturn\u001b[39;00m _read(filepath_or_buffer, kwds)\n",
      "File \u001b[1;32mc:\\Users\\ALEXANDER\\Desktop\\speui\\venv\\lib\\site-packages\\pandas\\io\\parsers\\readers.py:575\u001b[0m, in \u001b[0;36m_read\u001b[1;34m(filepath_or_buffer, kwds)\u001b[0m\n\u001b[0;32m    572\u001b[0m _validate_names(kwds\u001b[39m.\u001b[39mget(\u001b[39m\"\u001b[39m\u001b[39mnames\u001b[39m\u001b[39m\"\u001b[39m, \u001b[39mNone\u001b[39;00m))\n\u001b[0;32m    574\u001b[0m \u001b[39m# Create the parser.\u001b[39;00m\n\u001b[1;32m--> 575\u001b[0m parser \u001b[39m=\u001b[39m TextFileReader(filepath_or_buffer, \u001b[39m*\u001b[39m\u001b[39m*\u001b[39mkwds)\n\u001b[0;32m    577\u001b[0m \u001b[39mif\u001b[39;00m chunksize \u001b[39mor\u001b[39;00m iterator:\n\u001b[0;32m    578\u001b[0m     \u001b[39mreturn\u001b[39;00m parser\n",
      "File \u001b[1;32mc:\\Users\\ALEXANDER\\Desktop\\speui\\venv\\lib\\site-packages\\pandas\\io\\parsers\\readers.py:933\u001b[0m, in \u001b[0;36mTextFileReader.__init__\u001b[1;34m(self, f, engine, **kwds)\u001b[0m\n\u001b[0;32m    930\u001b[0m     \u001b[39mself\u001b[39m\u001b[39m.\u001b[39moptions[\u001b[39m\"\u001b[39m\u001b[39mhas_index_names\u001b[39m\u001b[39m\"\u001b[39m] \u001b[39m=\u001b[39m kwds[\u001b[39m\"\u001b[39m\u001b[39mhas_index_names\u001b[39m\u001b[39m\"\u001b[39m]\n\u001b[0;32m    932\u001b[0m \u001b[39mself\u001b[39m\u001b[39m.\u001b[39mhandles: IOHandles \u001b[39m|\u001b[39m \u001b[39mNone\u001b[39;00m \u001b[39m=\u001b[39m \u001b[39mNone\u001b[39;00m\n\u001b[1;32m--> 933\u001b[0m \u001b[39mself\u001b[39m\u001b[39m.\u001b[39m_engine \u001b[39m=\u001b[39m \u001b[39mself\u001b[39;49m\u001b[39m.\u001b[39;49m_make_engine(f, \u001b[39mself\u001b[39;49m\u001b[39m.\u001b[39;49mengine)\n",
      "File \u001b[1;32mc:\\Users\\ALEXANDER\\Desktop\\speui\\venv\\lib\\site-packages\\pandas\\io\\parsers\\readers.py:1217\u001b[0m, in \u001b[0;36mTextFileReader._make_engine\u001b[1;34m(self, f, engine)\u001b[0m\n\u001b[0;32m   1213\u001b[0m     mode \u001b[39m=\u001b[39m \u001b[39m\"\u001b[39m\u001b[39mrb\u001b[39m\u001b[39m\"\u001b[39m\n\u001b[0;32m   1214\u001b[0m \u001b[39m# error: No overload variant of \"get_handle\" matches argument types\u001b[39;00m\n\u001b[0;32m   1215\u001b[0m \u001b[39m# \"Union[str, PathLike[str], ReadCsvBuffer[bytes], ReadCsvBuffer[str]]\"\u001b[39;00m\n\u001b[0;32m   1216\u001b[0m \u001b[39m# , \"str\", \"bool\", \"Any\", \"Any\", \"Any\", \"Any\", \"Any\"\u001b[39;00m\n\u001b[1;32m-> 1217\u001b[0m \u001b[39mself\u001b[39m\u001b[39m.\u001b[39mhandles \u001b[39m=\u001b[39m get_handle(  \u001b[39m# type: ignore[call-overload]\u001b[39;49;00m\n\u001b[0;32m   1218\u001b[0m     f,\n\u001b[0;32m   1219\u001b[0m     mode,\n\u001b[0;32m   1220\u001b[0m     encoding\u001b[39m=\u001b[39;49m\u001b[39mself\u001b[39;49m\u001b[39m.\u001b[39;49moptions\u001b[39m.\u001b[39;49mget(\u001b[39m\"\u001b[39;49m\u001b[39mencoding\u001b[39;49m\u001b[39m\"\u001b[39;49m, \u001b[39mNone\u001b[39;49;00m),\n\u001b[0;32m   1221\u001b[0m     compression\u001b[39m=\u001b[39;49m\u001b[39mself\u001b[39;49m\u001b[39m.\u001b[39;49moptions\u001b[39m.\u001b[39;49mget(\u001b[39m\"\u001b[39;49m\u001b[39mcompression\u001b[39;49m\u001b[39m\"\u001b[39;49m, \u001b[39mNone\u001b[39;49;00m),\n\u001b[0;32m   1222\u001b[0m     memory_map\u001b[39m=\u001b[39;49m\u001b[39mself\u001b[39;49m\u001b[39m.\u001b[39;49moptions\u001b[39m.\u001b[39;49mget(\u001b[39m\"\u001b[39;49m\u001b[39mmemory_map\u001b[39;49m\u001b[39m\"\u001b[39;49m, \u001b[39mFalse\u001b[39;49;00m),\n\u001b[0;32m   1223\u001b[0m     is_text\u001b[39m=\u001b[39;49mis_text,\n\u001b[0;32m   1224\u001b[0m     errors\u001b[39m=\u001b[39;49m\u001b[39mself\u001b[39;49m\u001b[39m.\u001b[39;49moptions\u001b[39m.\u001b[39;49mget(\u001b[39m\"\u001b[39;49m\u001b[39mencoding_errors\u001b[39;49m\u001b[39m\"\u001b[39;49m, \u001b[39m\"\u001b[39;49m\u001b[39mstrict\u001b[39;49m\u001b[39m\"\u001b[39;49m),\n\u001b[0;32m   1225\u001b[0m     storage_options\u001b[39m=\u001b[39;49m\u001b[39mself\u001b[39;49m\u001b[39m.\u001b[39;49moptions\u001b[39m.\u001b[39;49mget(\u001b[39m\"\u001b[39;49m\u001b[39mstorage_options\u001b[39;49m\u001b[39m\"\u001b[39;49m, \u001b[39mNone\u001b[39;49;00m),\n\u001b[0;32m   1226\u001b[0m )\n\u001b[0;32m   1227\u001b[0m \u001b[39massert\u001b[39;00m \u001b[39mself\u001b[39m\u001b[39m.\u001b[39mhandles \u001b[39mis\u001b[39;00m \u001b[39mnot\u001b[39;00m \u001b[39mNone\u001b[39;00m\n\u001b[0;32m   1228\u001b[0m f \u001b[39m=\u001b[39m \u001b[39mself\u001b[39m\u001b[39m.\u001b[39mhandles\u001b[39m.\u001b[39mhandle\n",
      "File \u001b[1;32mc:\\Users\\ALEXANDER\\Desktop\\speui\\venv\\lib\\site-packages\\pandas\\io\\common.py:789\u001b[0m, in \u001b[0;36mget_handle\u001b[1;34m(path_or_buf, mode, encoding, compression, memory_map, is_text, errors, storage_options)\u001b[0m\n\u001b[0;32m    784\u001b[0m \u001b[39melif\u001b[39;00m \u001b[39misinstance\u001b[39m(handle, \u001b[39mstr\u001b[39m):\n\u001b[0;32m    785\u001b[0m     \u001b[39m# Check whether the filename is to be opened in binary mode.\u001b[39;00m\n\u001b[0;32m    786\u001b[0m     \u001b[39m# Binary mode does not support 'encoding' and 'newline'.\u001b[39;00m\n\u001b[0;32m    787\u001b[0m     \u001b[39mif\u001b[39;00m ioargs\u001b[39m.\u001b[39mencoding \u001b[39mand\u001b[39;00m \u001b[39m\"\u001b[39m\u001b[39mb\u001b[39m\u001b[39m\"\u001b[39m \u001b[39mnot\u001b[39;00m \u001b[39min\u001b[39;00m ioargs\u001b[39m.\u001b[39mmode:\n\u001b[0;32m    788\u001b[0m         \u001b[39m# Encoding\u001b[39;00m\n\u001b[1;32m--> 789\u001b[0m         handle \u001b[39m=\u001b[39m \u001b[39mopen\u001b[39;49m(\n\u001b[0;32m    790\u001b[0m             handle,\n\u001b[0;32m    791\u001b[0m             ioargs\u001b[39m.\u001b[39;49mmode,\n\u001b[0;32m    792\u001b[0m             encoding\u001b[39m=\u001b[39;49mioargs\u001b[39m.\u001b[39;49mencoding,\n\u001b[0;32m    793\u001b[0m             errors\u001b[39m=\u001b[39;49merrors,\n\u001b[0;32m    794\u001b[0m             newline\u001b[39m=\u001b[39;49m\u001b[39m\"\u001b[39;49m\u001b[39m\"\u001b[39;49m,\n\u001b[0;32m    795\u001b[0m         )\n\u001b[0;32m    796\u001b[0m     \u001b[39melse\u001b[39;00m:\n\u001b[0;32m    797\u001b[0m         \u001b[39m# Binary mode\u001b[39;00m\n\u001b[0;32m    798\u001b[0m         handle \u001b[39m=\u001b[39m \u001b[39mopen\u001b[39m(handle, ioargs\u001b[39m.\u001b[39mmode)\n",
      "\u001b[1;31mFileNotFoundError\u001b[0m: [Errno 2] No such file or directory: 'data/15_9-f-1a.csv'"
     ]
    }
   ],
   "source": [
    "converter = FileConverter(filename = \"data/15_9-F-1A.json\",output_format='xlsx')\n",
    "converter.convert_file()\n",
    "# converter.filename"
   ]
  }
 ],
 "metadata": {
  "kernelspec": {
   "display_name": "Python 3.9.7 ('venv': venv)",
   "language": "python",
   "name": "python3"
  },
  "language_info": {
   "codemirror_mode": {
    "name": "ipython",
    "version": 3
   },
   "file_extension": ".py",
   "mimetype": "text/x-python",
   "name": "python",
   "nbconvert_exporter": "python",
   "pygments_lexer": "ipython3",
   "version": "3.9.7"
  },
  "orig_nbformat": 4,
  "vscode": {
   "interpreter": {
    "hash": "a4512e8a37a0be82df902283280a8d96987bba23927592091138c7c27f0eb8ae"
   }
  }
 },
 "nbformat": 4,
 "nbformat_minor": 2
}
